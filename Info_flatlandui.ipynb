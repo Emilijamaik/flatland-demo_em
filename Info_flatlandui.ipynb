{
  "cells": [
    {
      "cell_type": "markdown",
      "metadata": {
        "id": "view-in-github",
        "colab_type": "text"
      },
      "source": [
        "<a href=\"https://colab.research.google.com/github/Emilijamaik/flatland-demo_em/blob/main/Info_flatlandui.ipynb\" target=\"_parent\"><img src=\"https://colab.research.google.com/assets/colab-badge.svg\" alt=\"Open In Colab\"/></a>"
      ]
    },
    {
      "cell_type": "code",
      "execution_count": 86,
      "id": "2ed4d4f5",
      "metadata": {
        "id": "2ed4d4f5"
      },
      "outputs": [],
      "source": [
        "import gzip\n",
        "import pickle\n",
        "from tensorflow import keras\n",
        "import numpy as np\n",
        "import matplotlib.pyplot as plt\n",
        "\n",
        "def evaluate(path, model):\n",
        "    X, y = pickle.load(gzip.open(path, 'rb'))\n",
        "    y[y != 0] -= 2\n",
        "    X = X / 255.\n",
        "    acc = np.mean(model(X).numpy().argmax(axis=1) == y)\n",
        "    return acc"
      ]
    },
    {
      "cell_type": "markdown",
      "id": "13b28fec",
      "metadata": {
        "id": "13b28fec"
      },
      "source": [
        "# Loading data"
      ]
    },
    {
      "cell_type": "code",
      "execution_count": 87,
      "id": "d20f5725",
      "metadata": {
        "id": "d20f5725"
      },
      "outputs": [],
      "source": [
        "path = 'flatland_train.data'\n",
        "X,y = pickle.load(gzip.open(path,'rb')) #(1000,50,50)\n",
        "\n",
        "# data pre-proc\n",
        "y[y != 0] -= 2\n",
        "X = X / 255."
      ]
    },
    {
      "cell_type": "code",
      "source": [
        "X_train.shape"
      ],
      "metadata": {
        "colab": {
          "base_uri": "https://localhost:8080/"
        },
        "id": "TEjjyrog5ZZh",
        "outputId": "5601b9f3-f31c-4150-a5e3-3d055f234001"
      },
      "id": "TEjjyrog5ZZh",
      "execution_count": 88,
      "outputs": [
        {
          "output_type": "execute_result",
          "data": {
            "text/plain": [
              "(7000, 50, 50)"
            ]
          },
          "metadata": {},
          "execution_count": 88
        }
      ]
    },
    {
      "cell_type": "code",
      "source": [
        "X_test.shape"
      ],
      "metadata": {
        "colab": {
          "base_uri": "https://localhost:8080/"
        },
        "id": "7LNWCb7T_kvH",
        "outputId": "cb6b7f85-6218-4601-f32e-3166f30dc023"
      },
      "id": "7LNWCb7T_kvH",
      "execution_count": 89,
      "outputs": [
        {
          "output_type": "execute_result",
          "data": {
            "text/plain": [
              "(3000, 50, 50)"
            ]
          },
          "metadata": {},
          "execution_count": 89
        }
      ]
    },
    {
      "cell_type": "code",
      "source": [
        "from sklearn.model_selection import train_test_split\n",
        "\n",
        "X_train, X_test, y_train, y_test = train_test_split(X,y,test_size = 0.3,random_state = 42) #(1000,50,50)"
      ],
      "metadata": {
        "id": "RruHubRx-kVk"
      },
      "id": "RruHubRx-kVk",
      "execution_count": 90,
      "outputs": []
    },
    {
      "cell_type": "code",
      "source": [
        "plt.imshow(X_test[0],cmap='gray')"
      ],
      "metadata": {
        "colab": {
          "base_uri": "https://localhost:8080/",
          "height": 284
        },
        "id": "LwXWHE8-70Dp",
        "outputId": "f8e09fc7-5f22-4ce4-cbc7-ff9cb5870b1d"
      },
      "id": "LwXWHE8-70Dp",
      "execution_count": 91,
      "outputs": [
        {
          "output_type": "execute_result",
          "data": {
            "text/plain": [
              "<matplotlib.image.AxesImage at 0x7fec33b6d550>"
            ]
          },
          "metadata": {},
          "execution_count": 91
        },
        {
          "output_type": "display_data",
          "data": {
            "image/png": "[encoded data removed]",
            "text/plain": [
              "<Figure size 432x288 with 1 Axes>"
            ]
          },
          "metadata": {
            "needs_background": "light"
          }
        }
      ]
    },
    {
      "cell_type": "code",
      "source": [
        "plt.figure(figsize=(10, 10))\n",
        "for i in range(10):\n",
        "        plt.subplot(10, 10, 10 + i + 1)\n",
        "        plt.imshow(X_test[i], cmap='gray')\n",
        "        plt.axis('off')\n",
        "plt.show()"
      ],
      "metadata": {
        "colab": {
          "base_uri": "https://localhost:8080/",
          "height": 77
        },
        "id": "HLEBYIZe8A1i",
        "outputId": "898ca525-7f61-4c42-9442-f0ccd7653bdb"
      },
      "id": "HLEBYIZe8A1i",
      "execution_count": 92,
      "outputs": [
        {
          "output_type": "display_data",
          "data": {
            "image/png": "[encoded data removed]",
            "text/plain": [
              "<Figure size 720x720 with 10 Axes>"
            ]
          },
          "metadata": {
            "needs_background": "light"
          }
        }
      ]
    },
    {
      "cell_type": "code",
      "source": [
        "from collections import Counter \n",
        "\n",
        "Counter(y)"
      ],
      "metadata": {
        "colab": {
          "base_uri": "https://localhost:8080/"
        },
        "id": "mxXizhJf8d3c",
        "outputId": "b7ce32f0-eabd-449d-dbc4-cef2377f5244"
      },
      "id": "mxXizhJf8d3c",
      "execution_count": 93,
      "outputs": [
        {
          "output_type": "execute_result",
          "data": {
            "text/plain": [
              "Counter({0.0: 1381, 1.0: 2853, 2.0: 1868, 3.0: 2137, 4.0: 1761})"
            ]
          },
          "metadata": {},
          "execution_count": 93
        }
      ]
    },
    {
      "cell_type": "code",
      "source": [
        "for i in range(5):\n",
        "    idx= np.where(y_train == i)[0][0]\n",
        "    plt.subplot(1,5,i+1)\n",
        "    plt.imshow(X_train[idx],cmap='gray')\n",
        "    plt.title(i)\n",
        "    plt.axis('off')\n",
        "plt.show() # padarem po viena skirtinga is kiekvienos klases"
      ],
      "metadata": {
        "colab": {
          "base_uri": "https://localhost:8080/",
          "height": 105
        },
        "id": "0tlIqgea8hF5",
        "outputId": "3feee060-6e73-4927-e61f-15973a006648"
      },
      "id": "0tlIqgea8hF5",
      "execution_count": 94,
      "outputs": [
        {
          "output_type": "display_data",
          "data": {
            "image/png": "[encoded data removed]",
            "text/plain": [
              "<Figure size 432x288 with 5 Axes>"
            ]
          },
          "metadata": {
            "needs_background": "light"
          }
        }
      ]
    },
    {
      "cell_type": "markdown",
      "id": "b29e1973",
      "metadata": {
        "id": "b29e1973"
      },
      "source": [
        "TODO: split to train and test set"
      ]
    },
    {
      "cell_type": "markdown",
      "id": "a6901dd4",
      "metadata": {
        "id": "a6901dd4"
      },
      "source": [
        "# DNN"
      ]
    },
    {
      "cell_type": "code",
      "source": [
        "model = keras.models.Sequential()\n",
        "# all data pre-processing should be in keras model!\n",
        "model.add(keras.layers.Flatten(input_shape=(50,50)))\n",
        "model.add(keras.layers.Dense(160,activation='relu')) \n",
        "model.add(keras.layers.Dense(80,activation='relu')) \n",
        "model.add(keras.layers.Dense(40,activation='relu')) \n",
        "model.add(keras.layers.Dense(40,activation='relu')) \n",
        "model.add(keras.layers.Dense(20,activation='relu'))\n",
        "model.add(keras.layers.Dense(10,activation='softmax')) \n",
        "model.compile(loss='sparse_categorical_crossentropy',\n",
        "             #optimizer='adam', #NAUJAS OPTIMIZERIS, GALI LABAI PADET!!!\n",
        "             optimizer = keras.optimizers.Adam(learning_rate=3e-4),\n",
        "              metrics=['accuracy'])\n",
        "#if you use categorical_crossentropy then it expects one hot encoded output\n",
        "model.summary()\n"
      ],
      "metadata": {
        "colab": {
          "base_uri": "https://localhost:8080/"
        },
        "id": "O_4BbFk8AEO6",
        "outputId": "cb61fed8-3a9c-4adb-8bce-8662d33c8769"
      },
      "id": "O_4BbFk8AEO6",
      "execution_count": 97,
      "outputs": [
        {
          "output_type": "stream",
          "name": "stdout",
          "text": [
            "Model: \"sequential_12\"\n",
            "_________________________________________________________________\n",
            " Layer (type)                Output Shape              Param #   \n",
            "=================================================================\n",
            " flatten_12 (Flatten)        (None, 2500)              0         \n",
            "                                                                 \n",
            " dense_40 (Dense)            (None, 160)               400160    \n",
            "                                                                 \n",
            " dense_41 (Dense)            (None, 80)                12880     \n",
            "                                                                 \n",
            " dense_42 (Dense)            (None, 40)                3240      \n",
            "                                                                 \n",
            " dense_43 (Dense)            (None, 40)                1640      \n",
            "                                                                 \n",
            " dense_44 (Dense)            (None, 20)                820       \n",
            "                                                                 \n",
            " dense_45 (Dense)            (None, 10)                210       \n",
            "                                                                 \n",
            "=================================================================\n",
            "Total params: 418,950\n",
            "Trainable params: 418,950\n",
            "Non-trainable params: 0\n",
            "_________________________________________________________________\n"
          ]
        }
      ]
    },
    {
      "cell_type": "code",
      "execution_count": 95,
      "id": "ffc01e2a",
      "metadata": {
        "colab": {
          "base_uri": "https://localhost:8080/"
        },
        "id": "ffc01e2a",
        "outputId": "4d64182a-0d9e-4e58-a1f6-e98429435ab9"
      },
      "outputs": [
        {
          "output_type": "stream",
          "name": "stdout",
          "text": [
            "Model: \"sequential_11\"\n",
            "_________________________________________________________________\n",
            " Layer (type)                Output Shape              Param #   \n",
            "=================================================================\n",
            " flatten_11 (Flatten)        (None, 2500)              0         \n",
            "                                                                 \n",
            " dense_36 (Dense)            (None, 256)               640256    \n",
            "                                                                 \n",
            " dropout_15 (Dropout)        (None, 256)               0         \n",
            "                                                                 \n",
            " dense_37 (Dense)            (None, 128)               32896     \n",
            "                                                                 \n",
            " dropout_16 (Dropout)        (None, 128)               0         \n",
            "                                                                 \n",
            " dense_38 (Dense)            (None, 64)                8256      \n",
            "                                                                 \n",
            " dropout_17 (Dropout)        (None, 64)                0         \n",
            "                                                                 \n",
            " dense_39 (Dense)            (None, 10)                650       \n",
            "                                                                 \n",
            "=================================================================\n",
            "Total params: 682,058\n",
            "Trainable params: 682,058\n",
            "Non-trainable params: 0\n",
            "_________________________________________________________________\n"
          ]
        }
      ],
      "source": [
        "model = keras.models.Sequential()\n",
        "# all data pre-processing should be in keras model!\n",
        "model.add(keras.layers.Flatten(input_shape=(50,50)))\n",
        "model.add(keras.layers.Dense(256,activation='relu')) \n",
        "model.add(keras.layers.Dropout(0,4))\n",
        "model.add(keras.layers.Dense(128,activation='relu')) \n",
        "model.add(keras.layers.Dropout(0,4))\n",
        "model.add(keras.layers.Dense(64,activation='relu'))\n",
        "model.add(keras.layers.Dropout(0,4))\n",
        "model.add(keras.layers.Dense(10,activation='softmax')) \n",
        "model.compile(loss='sparse_categorical_crossentropy',\n",
        "             #optimizer='adam', #NAUJAS OPTIMIZERIS, GALI LABAI PADET!!!\n",
        "             optimizer = keras.optimizers.Adam(learning_rate=3e-4),\n",
        "              metrics=['accuracy'])\n",
        "#if you use categorical_crossentropy then it expects one hot encoded output\n",
        "model.summary()\n"
      ]
    },
    {
      "cell_type": "code",
      "source": [
        "loss = model.fit(X_train, y_train, validation_data=(X_test, y_test), epochs=50)"
      ],
      "metadata": {
        "colab": {
          "base_uri": "https://localhost:8080/"
        },
        "id": "XMCp0h14AMe5",
        "outputId": "6e0ee550-a5cd-4da9-f671-fe210be2ec13"
      },
      "id": "XMCp0h14AMe5",
      "execution_count": 98,
      "outputs": [
        {
          "output_type": "stream",
          "name": "stdout",
          "text": [
            "Epoch 1/50\n",
            "219/219 [==============================] - 2s 7ms/step - loss: 1.5090 - accuracy: 0.4284 - val_loss: 1.2539 - val_accuracy: 0.4413\n",
            "Epoch 2/50\n",
            "219/219 [==============================] - 1s 6ms/step - loss: 1.1502 - accuracy: 0.5051 - val_loss: 1.0936 - val_accuracy: 0.5307\n",
            "Epoch 3/50\n",
            "219/219 [==============================] - 1s 6ms/step - loss: 0.9781 - accuracy: 0.5827 - val_loss: 0.9928 - val_accuracy: 0.5670\n",
            "Epoch 4/50\n",
            "219/219 [==============================] - 1s 6ms/step - loss: 0.8275 - accuracy: 0.6583 - val_loss: 0.8029 - val_accuracy: 0.6600\n",
            "Epoch 5/50\n",
            "219/219 [==============================] - 1s 6ms/step - loss: 0.7053 - accuracy: 0.7136 - val_loss: 0.7318 - val_accuracy: 0.6843\n",
            "Epoch 6/50\n",
            "219/219 [==============================] - 1s 6ms/step - loss: 0.6438 - accuracy: 0.7356 - val_loss: 0.6953 - val_accuracy: 0.7120\n",
            "Epoch 7/50\n",
            "219/219 [==============================] - 1s 6ms/step - loss: 0.5784 - accuracy: 0.7667 - val_loss: 0.6612 - val_accuracy: 0.7283\n",
            "Epoch 8/50\n",
            "219/219 [==============================] - 1s 6ms/step - loss: 0.5299 - accuracy: 0.7916 - val_loss: 0.6240 - val_accuracy: 0.7427\n",
            "Epoch 9/50\n",
            "219/219 [==============================] - 1s 6ms/step - loss: 0.5021 - accuracy: 0.7996 - val_loss: 0.7030 - val_accuracy: 0.7060\n",
            "Epoch 10/50\n",
            "219/219 [==============================] - 1s 6ms/step - loss: 0.4564 - accuracy: 0.8224 - val_loss: 0.6015 - val_accuracy: 0.7583\n",
            "Epoch 11/50\n",
            "219/219 [==============================] - 1s 6ms/step - loss: 0.4359 - accuracy: 0.8254 - val_loss: 0.5773 - val_accuracy: 0.7687\n",
            "Epoch 12/50\n",
            "219/219 [==============================] - 1s 6ms/step - loss: 0.3952 - accuracy: 0.8437 - val_loss: 0.5638 - val_accuracy: 0.7737\n",
            "Epoch 13/50\n",
            "219/219 [==============================] - 1s 6ms/step - loss: 0.3637 - accuracy: 0.8604 - val_loss: 0.5904 - val_accuracy: 0.7733\n",
            "Epoch 14/50\n",
            "219/219 [==============================] - 1s 6ms/step - loss: 0.3522 - accuracy: 0.8647 - val_loss: 0.5774 - val_accuracy: 0.7910\n",
            "Epoch 15/50\n",
            "219/219 [==============================] - 1s 6ms/step - loss: 0.3149 - accuracy: 0.8810 - val_loss: 0.5680 - val_accuracy: 0.7940\n",
            "Epoch 16/50\n",
            "219/219 [==============================] - 1s 6ms/step - loss: 0.2877 - accuracy: 0.8959 - val_loss: 0.5500 - val_accuracy: 0.8067\n",
            "Epoch 17/50\n",
            "219/219 [==============================] - 1s 6ms/step - loss: 0.2658 - accuracy: 0.9083 - val_loss: 0.5148 - val_accuracy: 0.8220\n",
            "Epoch 18/50\n",
            "219/219 [==============================] - 1s 6ms/step - loss: 0.2294 - accuracy: 0.9210 - val_loss: 0.5170 - val_accuracy: 0.8373\n",
            "Epoch 19/50\n",
            "219/219 [==============================] - 1s 6ms/step - loss: 0.2106 - accuracy: 0.9283 - val_loss: 0.5600 - val_accuracy: 0.8147\n",
            "Epoch 20/50\n",
            "219/219 [==============================] - 1s 6ms/step - loss: 0.2109 - accuracy: 0.9257 - val_loss: 0.5499 - val_accuracy: 0.8130\n",
            "Epoch 21/50\n",
            "219/219 [==============================] - 1s 5ms/step - loss: 0.2047 - accuracy: 0.9281 - val_loss: 0.4753 - val_accuracy: 0.8500\n",
            "Epoch 22/50\n",
            "219/219 [==============================] - 1s 6ms/step - loss: 0.1691 - accuracy: 0.9456 - val_loss: 0.4561 - val_accuracy: 0.8660\n",
            "Epoch 23/50\n",
            "219/219 [==============================] - 1s 6ms/step - loss: 0.1644 - accuracy: 0.9426 - val_loss: 0.5089 - val_accuracy: 0.8470\n",
            "Epoch 24/50\n",
            "219/219 [==============================] - 1s 6ms/step - loss: 0.1531 - accuracy: 0.9473 - val_loss: 0.4959 - val_accuracy: 0.8580\n",
            "Epoch 25/50\n",
            "219/219 [==============================] - 1s 6ms/step - loss: 0.1320 - accuracy: 0.9583 - val_loss: 0.4541 - val_accuracy: 0.8683\n",
            "Epoch 26/50\n",
            "219/219 [==============================] - 1s 6ms/step - loss: 0.1278 - accuracy: 0.9554 - val_loss: 0.5040 - val_accuracy: 0.8650\n",
            "Epoch 27/50\n",
            "219/219 [==============================] - 1s 6ms/step - loss: 0.1379 - accuracy: 0.9530 - val_loss: 0.5206 - val_accuracy: 0.8580\n",
            "Epoch 28/50\n",
            "219/219 [==============================] - 1s 6ms/step - loss: 0.1150 - accuracy: 0.9634 - val_loss: 0.4607 - val_accuracy: 0.8857\n",
            "Epoch 29/50\n",
            "219/219 [==============================] - 1s 6ms/step - loss: 0.1030 - accuracy: 0.9674 - val_loss: 0.5565 - val_accuracy: 0.8593\n",
            "Epoch 30/50\n",
            "219/219 [==============================] - 1s 6ms/step - loss: 0.1334 - accuracy: 0.9546 - val_loss: 0.4860 - val_accuracy: 0.8800\n",
            "Epoch 31/50\n",
            "219/219 [==============================] - 1s 6ms/step - loss: 0.1028 - accuracy: 0.9656 - val_loss: 0.4945 - val_accuracy: 0.8797\n",
            "Epoch 32/50\n",
            "219/219 [==============================] - 1s 5ms/step - loss: 0.0995 - accuracy: 0.9664 - val_loss: 0.4725 - val_accuracy: 0.8947\n",
            "Epoch 33/50\n",
            "219/219 [==============================] - 1s 6ms/step - loss: 0.0763 - accuracy: 0.9761 - val_loss: 0.4749 - val_accuracy: 0.8850\n",
            "Epoch 34/50\n",
            "219/219 [==============================] - 1s 6ms/step - loss: 0.1053 - accuracy: 0.9624 - val_loss: 0.5387 - val_accuracy: 0.8767\n",
            "Epoch 35/50\n",
            "219/219 [==============================] - 1s 6ms/step - loss: 0.0765 - accuracy: 0.9743 - val_loss: 0.5775 - val_accuracy: 0.8663\n",
            "Epoch 36/50\n",
            "219/219 [==============================] - 1s 6ms/step - loss: 0.0855 - accuracy: 0.9709 - val_loss: 0.5094 - val_accuracy: 0.8823\n",
            "Epoch 37/50\n",
            "219/219 [==============================] - 1s 6ms/step - loss: 0.0495 - accuracy: 0.9847 - val_loss: 0.4754 - val_accuracy: 0.8930\n",
            "Epoch 38/50\n",
            "219/219 [==============================] - 1s 6ms/step - loss: 0.0712 - accuracy: 0.9773 - val_loss: 0.6460 - val_accuracy: 0.8700\n",
            "Epoch 39/50\n",
            "219/219 [==============================] - 1s 6ms/step - loss: 0.1421 - accuracy: 0.9499 - val_loss: 0.5443 - val_accuracy: 0.8740\n",
            "Epoch 40/50\n",
            "219/219 [==============================] - 1s 6ms/step - loss: 0.0734 - accuracy: 0.9759 - val_loss: 0.5417 - val_accuracy: 0.8797\n",
            "Epoch 41/50\n",
            "219/219 [==============================] - 1s 6ms/step - loss: 0.0580 - accuracy: 0.9809 - val_loss: 0.5129 - val_accuracy: 0.8913\n",
            "Epoch 42/50\n",
            "219/219 [==============================] - 1s 6ms/step - loss: 0.0666 - accuracy: 0.9764 - val_loss: 0.5861 - val_accuracy: 0.8703\n",
            "Epoch 43/50\n",
            "219/219 [==============================] - 1s 6ms/step - loss: 0.0590 - accuracy: 0.9804 - val_loss: 0.6582 - val_accuracy: 0.8533\n",
            "Epoch 44/50\n",
            "219/219 [==============================] - 1s 6ms/step - loss: 0.0987 - accuracy: 0.9640 - val_loss: 0.7404 - val_accuracy: 0.8427\n",
            "Epoch 45/50\n",
            "219/219 [==============================] - 1s 6ms/step - loss: 0.0724 - accuracy: 0.9739 - val_loss: 0.5244 - val_accuracy: 0.8940\n",
            "Epoch 46/50\n",
            "219/219 [==============================] - 1s 6ms/step - loss: 0.0644 - accuracy: 0.9789 - val_loss: 0.5009 - val_accuracy: 0.9033\n",
            "Epoch 47/50\n",
            "219/219 [==============================] - 1s 6ms/step - loss: 0.0396 - accuracy: 0.9877 - val_loss: 0.6127 - val_accuracy: 0.8700\n",
            "Epoch 48/50\n",
            "219/219 [==============================] - 1s 6ms/step - loss: 0.0507 - accuracy: 0.9826 - val_loss: 0.6609 - val_accuracy: 0.8640\n",
            "Epoch 49/50\n",
            "219/219 [==============================] - 1s 6ms/step - loss: 0.0758 - accuracy: 0.9736 - val_loss: 0.5703 - val_accuracy: 0.8837\n",
            "Epoch 50/50\n",
            "219/219 [==============================] - 1s 6ms/step - loss: 0.1054 - accuracy: 0.9647 - val_loss: 0.5473 - val_accuracy: 0.8903\n"
          ]
        }
      ]
    },
    {
      "cell_type": "code",
      "execution_count": 12,
      "id": "0e800ac0",
      "metadata": {
        "scrolled": true,
        "colab": {
          "base_uri": "https://localhost:8080/"
        },
        "id": "0e800ac0",
        "outputId": "f3bfc029-e7d0-4089-c1fa-466070297415"
      },
      "outputs": [
        {
          "output_type": "stream",
          "name": "stdout",
          "text": [
            "Epoch 1/10\n",
            "313/313 [==============================] - 1s 3ms/step - loss: 1.5196 - accuracy: 0.3602\n",
            "Epoch 2/10\n",
            "313/313 [==============================] - 1s 3ms/step - loss: 1.3743 - accuracy: 0.4689\n",
            "Epoch 3/10\n",
            "313/313 [==============================] - 1s 3ms/step - loss: 1.2711 - accuracy: 0.4995\n",
            "Epoch 4/10\n",
            "313/313 [==============================] - 1s 3ms/step - loss: 1.2087 - accuracy: 0.5130\n",
            "Epoch 5/10\n",
            "313/313 [==============================] - 1s 3ms/step - loss: 1.1682 - accuracy: 0.5191\n",
            "Epoch 6/10\n",
            "313/313 [==============================] - 1s 3ms/step - loss: 1.1339 - accuracy: 0.5329\n",
            "Epoch 7/10\n",
            "313/313 [==============================] - 1s 3ms/step - loss: 1.1022 - accuracy: 0.5490\n",
            "Epoch 8/10\n",
            "313/313 [==============================] - 1s 3ms/step - loss: 1.0763 - accuracy: 0.5547\n",
            "Epoch 9/10\n",
            "313/313 [==============================] - 1s 3ms/step - loss: 1.0504 - accuracy: 0.5723\n",
            "Epoch 10/10\n",
            "313/313 [==============================] - 1s 4ms/step - loss: 1.0325 - accuracy: 0.5779\n"
          ]
        },
        {
          "output_type": "execute_result",
          "data": {
            "text/plain": [
              "<keras.callbacks.History at 0x7feca02054d0>"
            ]
          },
          "metadata": {},
          "execution_count": 12
        }
      ],
      "source": [
        "model.fit(X,y, epochs=10)"
      ]
    },
    {
      "cell_type": "code",
      "execution_count": 99,
      "id": "86f0c95a",
      "metadata": {
        "id": "86f0c95a"
      },
      "outputs": [],
      "source": [
        "model.save('model.h5')"
      ]
    },
    {
      "cell_type": "markdown",
      "id": "981c48cb",
      "metadata": {
        "id": "981c48cb"
      },
      "source": [
        "\n",
        "## Test your model!!!"
      ]
    },
    {
      "cell_type": "code",
      "execution_count": 100,
      "id": "a7db4e3e",
      "metadata": {
        "colab": {
          "base_uri": "https://localhost:8080/"
        },
        "id": "a7db4e3e",
        "outputId": "79407231-3937-4220-c2d0-05661b2946f6"
      },
      "outputs": [
        {
          "output_type": "execute_result",
          "data": {
            "text/plain": [
              "0.9557"
            ]
          },
          "metadata": {},
          "execution_count": 100
        }
      ],
      "source": [
        "model = keras.models.load_model('model.h5')\n",
        "evaluate('flatland_train.data', model)"
      ]
    },
    {
      "cell_type": "markdown",
      "id": "6064caf2",
      "metadata": {
        "id": "6064caf2"
      },
      "source": [
        "# Fashion MNIST"
      ]
    },
    {
      "cell_type": "code",
      "execution_count": null,
      "id": "10d62a2f",
      "metadata": {
        "collapsed": true,
        "id": "10d62a2f",
        "outputId": "533bdaee-80f8-4e53-c190-6c15e2ded8b8"
      },
      "outputs": [
        {
          "name": "stdout",
          "output_type": "stream",
          "text": [
            "Collecting matplotlib\n",
            "  Downloading matplotlib-3.5.0-cp38-cp38-manylinux_2_5_x86_64.manylinux1_x86_64.whl (11.3 MB)\n",
            "\u001b[K     |████████████████████████████████| 11.3 MB 19.5 MB/s eta 0:00:01    |██████████████▊                 | 5.2 MB 19.5 MB/s eta 0:00:01\n",
            "\u001b[?25hCollecting pillow>=6.2.0\n",
            "  Downloading Pillow-8.4.0-cp38-cp38-manylinux_2_17_x86_64.manylinux2014_x86_64.whl (3.1 MB)\n",
            "\u001b[K     |████████████████████████████████| 3.1 MB 24.4 MB/s eta 0:00:01     |██▊                             | 256 kB 24.4 MB/s eta 0:00:01\n",
            "\u001b[?25hRequirement already satisfied: packaging>=20.0 in /usr/local/lib/python3.8/dist-packages (from matplotlib) (21.0)\n",
            "Collecting cycler>=0.10\n",
            "  Downloading cycler-0.11.0-py3-none-any.whl (6.4 kB)\n",
            "Collecting setuptools-scm>=4\n",
            "  Downloading setuptools_scm-6.3.2-py3-none-any.whl (33 kB)\n",
            "Requirement already satisfied: pyparsing>=2.2.1 in /usr/local/lib/python3.8/dist-packages (from matplotlib) (2.4.7)\n",
            "Collecting fonttools>=4.22.0\n",
            "  Downloading fonttools-4.28.2-py3-none-any.whl (880 kB)\n",
            "\u001b[K     |████████████████████████████████| 880 kB 2.4 MB/s eta 0:00:01\n",
            "\u001b[?25hCollecting kiwisolver>=1.0.1\n",
            "  Downloading kiwisolver-1.3.2-cp38-cp38-manylinux_2_5_x86_64.manylinux1_x86_64.whl (1.2 MB)\n",
            "\u001b[K     |████████████████████████████████| 1.2 MB 30.9 MB/s eta 0:00:01\n",
            "\u001b[?25hRequirement already satisfied: python-dateutil>=2.7 in /usr/local/lib/python3.8/dist-packages (from matplotlib) (2.8.2)\n",
            "Requirement already satisfied: numpy>=1.17 in /usr/local/lib/python3.8/dist-packages (from matplotlib) (1.19.4)\n",
            "Requirement already satisfied: six>=1.5 in /usr/local/lib/python3.8/dist-packages (from python-dateutil>=2.7->matplotlib) (1.15.0)\n",
            "Requirement already satisfied: setuptools in /usr/local/lib/python3.8/dist-packages (from setuptools-scm>=4->matplotlib) (58.1.0)\n",
            "Collecting tomli>=1.0.0\n",
            "  Downloading tomli-1.2.2-py3-none-any.whl (12 kB)\n",
            "Installing collected packages: tomli, setuptools-scm, pillow, kiwisolver, fonttools, cycler, matplotlib\n",
            "Successfully installed cycler-0.11.0 fonttools-4.28.2 kiwisolver-1.3.2 matplotlib-3.5.0 pillow-8.4.0 setuptools-scm-6.3.2 tomli-1.2.2\n",
            "\u001b[33mWARNING: Running pip as the 'root' user can result in broken permissions and conflicting behaviour with the system package manager. It is recommended to use a virtual environment instead: https://pip.pypa.io/warnings/venv\u001b[0m\n",
            "\u001b[33mWARNING: You are using pip version 21.2.4; however, version 21.3.1 is available.\n",
            "You should consider upgrading via the '/usr/bin/python -m pip install --upgrade pip' command.\u001b[0m\n",
            "Note: you may need to restart the kernel to use updated packages.\n"
          ]
        }
      ],
      "source": [
        "pip install matplotlib"
      ]
    },
    {
      "cell_type": "code",
      "execution_count": 7,
      "id": "4f16f798",
      "metadata": {
        "colab": {
          "base_uri": "https://localhost:8080/"
        },
        "id": "4f16f798",
        "outputId": "931bd97e-722f-4dc8-ff73-0c946e1c4a28"
      },
      "outputs": [
        {
          "output_type": "stream",
          "name": "stdout",
          "text": [
            "Downloading data from https://storage.googleapis.com/tensorflow/tf-keras-datasets/train-labels-idx1-ubyte.gz\n",
            "32768/29515 [=================================] - 0s 0us/step\n",
            "40960/29515 [=========================================] - 0s 0us/step\n",
            "Downloading data from https://storage.googleapis.com/tensorflow/tf-keras-datasets/train-images-idx3-ubyte.gz\n",
            "26427392/26421880 [==============================] - 0s 0us/step\n",
            "26435584/26421880 [==============================] - 0s 0us/step\n",
            "Downloading data from https://storage.googleapis.com/tensorflow/tf-keras-datasets/t10k-labels-idx1-ubyte.gz\n",
            "16384/5148 [===============================================================================================] - 0s 0us/step\n",
            "Downloading data from https://storage.googleapis.com/tensorflow/tf-keras-datasets/t10k-images-idx3-ubyte.gz\n",
            "4423680/4422102 [==============================] - 0s 0us/step\n",
            "4431872/4422102 [==============================] - 0s 0us/step\n"
          ]
        }
      ],
      "source": [
        "# TASK: Create DNN model (using keras) for fashion MNIST dataset.\n",
        "\n",
        "\n",
        "\n",
        "# - Plot the data\n",
        "# - How many classes are there?\n",
        "# - Train NN classifier using keras\n",
        "# - Can you make a model that is able to overfit the data?\n",
        "# - Play with dropout and different architectures\n",
        "\n",
        "import matplotlib.pyplot as plt\n",
        "\n",
        "from tensorflow import keras\n",
        "(X_train, y_train), (X_test, y_test) = keras.datasets.fashion_mnist.load_data()"
      ]
    },
    {
      "cell_type": "code",
      "execution_count": 8,
      "id": "0c7d3770",
      "metadata": {
        "colab": {
          "base_uri": "https://localhost:8080/"
        },
        "id": "0c7d3770",
        "outputId": "9f92e8e7-5265-46d5-c22c-406efffcceff"
      },
      "outputs": [
        {
          "output_type": "execute_result",
          "data": {
            "text/plain": [
              "(60000, 28, 28)"
            ]
          },
          "metadata": {},
          "execution_count": 8
        }
      ],
      "source": [
        "X_train.shape"
      ]
    },
    {
      "cell_type": "code",
      "execution_count": 9,
      "id": "576e391b",
      "metadata": {
        "colab": {
          "base_uri": "https://localhost:8080/"
        },
        "id": "576e391b",
        "outputId": "3c8da94f-4af2-4fd5-f9db-20dac1e4c1fb"
      },
      "outputs": [
        {
          "output_type": "execute_result",
          "data": {
            "text/plain": [
              "(10000, 28, 28)"
            ]
          },
          "metadata": {},
          "execution_count": 9
        }
      ],
      "source": [
        "X_test.shape"
      ]
    },
    {
      "cell_type": "code",
      "execution_count": 19,
      "id": "ef80b5fe",
      "metadata": {
        "colab": {
          "base_uri": "https://localhost:8080/"
        },
        "id": "ef80b5fe",
        "outputId": "c8dcd2b3-d748-40d9-8317-483b2e9c5211"
      },
      "outputs": [
        {
          "output_type": "stream",
          "name": "stdout",
          "text": [
            "Model: \"sequential_1\"\n",
            "_________________________________________________________________\n",
            " Layer (type)                Output Shape              Param #   \n",
            "=================================================================\n",
            " flatten_1 (Flatten)         (None, 784)               0         \n",
            "                                                                 \n",
            " dense_2 (Dense)             (None, 40)                31400     \n",
            "                                                                 \n",
            " dense_3 (Dense)             (None, 20)                820       \n",
            "                                                                 \n",
            " dense_4 (Dense)             (None, 10)                210       \n",
            "                                                                 \n",
            "=================================================================\n",
            "Total params: 32,430\n",
            "Trainable params: 32,430\n",
            "Non-trainable params: 0\n",
            "_________________________________________________________________\n"
          ]
        }
      ],
      "source": [
        "model = keras.models.Sequential()\n",
        "# all data pre-processing should be in keras model!\n",
        "model.add(keras.layers.Flatten(input_shape=(28,28)))\n",
        "model.add(keras.layers.Dense(40,activation='relu')) \n",
        "model.add(keras.layers.Dense(20,activation='relu'))\n",
        "model.add(keras.layers.Dense(10,activation='softmax')) \n",
        "model.compile(loss='sparse_categorical_crossentropy',\n",
        "             optimizer=keras.optimizers.SGD(learning_rate=0.01),\n",
        "             metrics=['accuracy'])\n",
        "#if you use categorical_crossentropy then it expects one hot encoded output\n",
        "model.summary()\n"
      ]
    },
    {
      "cell_type": "code",
      "execution_count": 21,
      "id": "663298d7",
      "metadata": {
        "id": "663298d7"
      },
      "outputs": [],
      "source": [
        "import pandas as pd"
      ]
    },
    {
      "cell_type": "code",
      "execution_count": null,
      "id": "ca4e2db3",
      "metadata": {
        "scrolled": true,
        "id": "ca4e2db3",
        "outputId": "b1d96d15-d847-4839-ba5e-6ebbc7aea999"
      },
      "outputs": [
        {
          "data": {
            "text/plain": [
              "<AxesSubplot:>"
            ]
          },
          "execution_count": 122,
          "metadata": {},
          "output_type": "execute_result"
        },
        {
          "data": {
            "image/png": "[encoded data removed]",
            "text/plain": [
              "<Figure size 432x288 with 1 Axes>"
            ]
          },
          "metadata": {
            "needs_background": "light"
          },
          "output_type": "display_data"
        }
      ],
      "source": [
        "pd.DataFrame(loss.history)[['loss','val_loss']].plot()"
      ]
    },
    {
      "cell_type": "markdown",
      "id": "e20154c2",
      "metadata": {
        "id": "e20154c2"
      },
      "source": [
        "Pakaitaliojam learning rate optimizeryje "
      ]
    },
    {
      "cell_type": "code",
      "execution_count": null,
      "id": "17aebb0a",
      "metadata": {
        "id": "17aebb0a"
      },
      "outputs": [],
      "source": [
        "X_train = X_train/255\n",
        "X_test = X_test/255"
      ]
    },
    {
      "cell_type": "code",
      "execution_count": null,
      "id": "bea6a0ba",
      "metadata": {
        "scrolled": true,
        "id": "bea6a0ba",
        "outputId": "a48eceb9-ba15-4a2c-d9fb-7398ca2c63b5"
      },
      "outputs": [
        {
          "name": "stdout",
          "output_type": "stream",
          "text": [
            "Epoch 1/10\n",
            "1875/1875 [==============================] - 11s 5ms/step - loss: 0.6854 - accuracy: 0.7705 - val_loss: 0.4970 - val_accuracy: 0.8272\n",
            "Epoch 2/10\n",
            "1875/1875 [==============================] - 10s 5ms/step - loss: 0.4447 - accuracy: 0.8457 - val_loss: 0.4421 - val_accuracy: 0.8464\n",
            "Epoch 3/10\n",
            "1875/1875 [==============================] - 10s 5ms/step - loss: 0.4051 - accuracy: 0.8577 - val_loss: 0.4320 - val_accuracy: 0.8493: 0.4052 - accuracy: 0. - ETA: 0s - loss: 0.4051 - ac\n",
            "Epoch 4/10\n",
            "1875/1875 [==============================] - 10s 5ms/step - loss: 0.3833 - accuracy: 0.8654 - val_loss: 0.4097 - val_accuracy: 0.8542\n",
            "Epoch 5/10\n",
            "1875/1875 [==============================] - 10s 5ms/step - loss: 0.3662 - accuracy: 0.8701 - val_loss: 0.3973 - val_accuracy: 0.8568\n",
            "Epoch 6/10\n",
            "1875/1875 [==============================] - 11s 6ms/step - loss: 0.3534 - accuracy: 0.8742 - val_loss: 0.3962 - val_accuracy: 0.8576\n",
            "Epoch 7/10\n",
            "1875/1875 [==============================] - 10s 5ms/step - loss: 0.3390 - accuracy: 0.8793 - val_loss: 0.3912 - val_accuracy: 0.8600\n",
            "Epoch 8/10\n",
            "1875/1875 [==============================] - 10s 5ms/step - loss: 0.3289 - accuracy: 0.8819 - val_loss: 0.3752 - val_accuracy: 0.8677\n",
            "Epoch 9/10\n",
            "1875/1875 [==============================] - 9s 5ms/step - loss: 0.3201 - accuracy: 0.8853 - val_loss: 0.3783 - val_accuracy: 0.8670\n",
            "Epoch 10/10\n",
            "1875/1875 [==============================] - 10s 5ms/step - loss: 0.3124 - accuracy: 0.8873 - val_loss: 0.3767 - val_accuracy: 0.8657\n"
          ]
        },
        {
          "name": "stderr",
          "output_type": "stream",
          "text": [
            "Exception ignored in: <function IteratorResourceDeleter.__del__ at 0x7f296afb4f70>\n",
            "Traceback (most recent call last):\n",
            "  File \"/usr/local/lib/python3.8/dist-packages/tensorflow/python/data/ops/iterator_ops.py\", line 545, in __del__\n",
            "    gen_dataset_ops.delete_iterator(\n",
            "  File \"/usr/local/lib/python3.8/dist-packages/tensorflow/python/ops/gen_dataset_ops.py\", line 1263, in delete_iterator\n",
            "    _result = pywrap_tfe.TFE_Py_FastPathExecute(\n",
            "KeyboardInterrupt: \n"
          ]
        }
      ],
      "source": [
        "loss = model.fit(X_train, y_train, validation_data=(X_test, y_test), epochs=10)"
      ]
    },
    {
      "cell_type": "code",
      "execution_count": null,
      "id": "0192753c",
      "metadata": {
        "id": "0192753c",
        "outputId": "9d662f30-d970-44d2-9b2c-4f5b3ddc97b1"
      },
      "outputs": [
        {
          "data": {
            "text/plain": [
              "<AxesSubplot:>"
            ]
          },
          "execution_count": 139,
          "metadata": {},
          "output_type": "execute_result"
        },
        {
          "data": {
            "image/png": "[encoded data removed]",
            "text/plain": [
              "<Figure size 432x288 with 1 Axes>"
            ]
          },
          "metadata": {
            "needs_background": "light"
          },
          "output_type": "display_data"
        }
      ],
      "source": [
        "pd.DataFrame(loss.history)[['loss','val_loss']].plot()"
      ]
    },
    {
      "cell_type": "markdown",
      "id": "0b39802d",
      "metadata": {
        "id": "0b39802d"
      },
      "source": [
        "Bandom overfittint"
      ]
    },
    {
      "cell_type": "code",
      "execution_count": null,
      "id": "6e7dcd7b",
      "metadata": {
        "id": "6e7dcd7b",
        "outputId": "0ab8b840-9439-429b-ea59-886bc4219f0b"
      },
      "outputs": [
        {
          "name": "stdout",
          "output_type": "stream",
          "text": [
            "Model: \"sequential\"\n",
            "_________________________________________________________________\n",
            "Layer (type)                 Output Shape              Param #   \n",
            "=================================================================\n",
            "flatten (Flatten)            (None, 784)               0         \n",
            "_________________________________________________________________\n",
            "dense (Dense)                (None, 256)               200960    \n",
            "_________________________________________________________________\n",
            "dense_1 (Dense)              (None, 128)               32896     \n",
            "_________________________________________________________________\n",
            "dense_2 (Dense)              (None, 64)                8256      \n",
            "_________________________________________________________________\n",
            "dense_3 (Dense)              (None, 10)                650       \n",
            "=================================================================\n",
            "Total params: 242,762\n",
            "Trainable params: 242,762\n",
            "Non-trainable params: 0\n",
            "_________________________________________________________________\n"
          ]
        },
        {
          "name": "stderr",
          "output_type": "stream",
          "text": [
            "2021-12-01 17:06:16.491302: W tensorflow/stream_executor/platform/default/dso_loader.cc:65] Could not load dynamic library 'libcuda.so.1'; dlerror: libcuda.so.1: cannot open shared object file: No such file or directory; LD_LIBRARY_PATH: /usr/local/cuda/extras/CUPTI/lib64:/usr/local/cuda/compat/lib:/usr/local/nvidia/lib:/usr/local/nvidia/lib64\n",
            "2021-12-01 17:06:16.491407: W tensorflow/stream_executor/cuda/cuda_driver.cc:269] failed call to cuInit: UNKNOWN ERROR (303)\n",
            "2021-12-01 17:06:16.491453: I tensorflow/stream_executor/cuda/cuda_diagnostics.cc:156] kernel driver does not appear to be running on this host (nw2ypv87ll): /proc/driver/nvidia/version does not exist\n"
          ]
        }
      ],
      "source": [
        "model = keras.models.Sequential()\n",
        "# all data pre-processing should be in keras model!\n",
        "model.add(keras.layers.Flatten(input_shape=(28,28)))\n",
        "model.add(keras.layers.Dense(256,activation='relu')) \n",
        "model.add(keras.layers.Dense(128,activation='relu')) \n",
        "model.add(keras.layers.Dense(64,activation='relu'))\n",
        "model.add(keras.layers.Dense(10,activation='softmax')) \n",
        "model.compile(loss='sparse_categorical_crossentropy',\n",
        "             #optimizer='adam', #NAUJAS OPTIMIZERIS, GALI LABAI PADET!!!\n",
        "             optimizer = keras.optimizers.Adam(learning_rate=3e-4),\n",
        "              metrics=['accuracy'])\n",
        "#if you use categorical_crossentropy then it expects one hot encoded output\n",
        "model.summary()"
      ]
    },
    {
      "cell_type": "code",
      "execution_count": null,
      "id": "823b991d",
      "metadata": {
        "scrolled": true,
        "id": "823b991d",
        "outputId": "f7524fb7-d44d-455b-f71c-026afefd22e9"
      },
      "outputs": [
        {
          "name": "stderr",
          "output_type": "stream",
          "text": [
            "2021-12-01 17:06:21.389881: W tensorflow/core/framework/cpu_allocator_impl.cc:80] Allocation of 188160000 exceeds 10% of free system memory.\n",
            "2021-12-01 17:06:21.826883: I tensorflow/compiler/mlir/mlir_graph_optimization_pass.cc:185] None of the MLIR Optimization Passes are enabled (registered 2)\n"
          ]
        },
        {
          "name": "stdout",
          "output_type": "stream",
          "text": [
            "Epoch 1/20\n",
            "1875/1875 [==============================] - 23s 12ms/step - loss: 0.5175 - accuracy: 0.8192 - val_loss: 0.4389 - val_accuracy: 0.8398\n",
            "Epoch 2/20\n",
            "1875/1875 [==============================] - 19s 10ms/step - loss: 0.3715 - accuracy: 0.8651 - val_loss: 0.4039 - val_accuracy: 0.8486\n",
            "Epoch 3/20\n",
            "1875/1875 [==============================] - 19s 10ms/step - loss: 0.3303 - accuracy: 0.8774 - val_loss: 0.3726 - val_accuracy: 0.8639\n",
            "Epoch 4/20\n",
            "1875/1875 [==============================] - 20s 11ms/step - loss: 0.3045 - accuracy: 0.8874 - val_loss: 0.3523 - val_accuracy: 0.8733\n",
            "Epoch 5/20\n",
            "1875/1875 [==============================] - 19s 10ms/step - loss: 0.2849 - accuracy: 0.8937 - val_loss: 0.3523 - val_accuracy: 0.8721\n",
            "Epoch 6/20\n",
            "1875/1875 [==============================] - 20s 11ms/step - loss: 0.2679 - accuracy: 0.9004 - val_loss: 0.3448 - val_accuracy: 0.8755\n",
            "Epoch 7/20\n",
            "1875/1875 [==============================] - 22s 12ms/step - loss: 0.2562 - accuracy: 0.9044 - val_loss: 0.3372 - val_accuracy: 0.8805 - loss: 0.2568 - \n",
            "Epoch 8/20\n",
            "1875/1875 [==============================] - 22s 12ms/step - loss: 0.2449 - accuracy: 0.9082 - val_loss: 0.3340 - val_accuracy: 0.8808\n",
            "Epoch 9/20\n",
            "1875/1875 [==============================] - 21s 11ms/step - loss: 0.2329 - accuracy: 0.9120 - val_loss: 0.3325 - val_accuracy: 0.8820\n",
            "Epoch 10/20\n",
            "1875/1875 [==============================] - 21s 11ms/step - loss: 0.2243 - accuracy: 0.9146 - val_loss: 0.3186 - val_accuracy: 0.8890\n",
            "Epoch 11/20\n",
            "1875/1875 [==============================] - 22s 12ms/step - loss: 0.2147 - accuracy: 0.9186 - val_loss: 0.3420 - val_accuracy: 0.8783\n",
            "Epoch 12/20\n",
            "1875/1875 [==============================] - 21s 11ms/step - loss: 0.2053 - accuracy: 0.9225 - val_loss: 0.3206 - val_accuracy: 0.8913\n",
            "Epoch 13/20\n",
            "1692/1875 [==========================>...] - ETA: 1s - loss: 0.1956 - accuracy: 0.92"
          ]
        },
        {
          "ename": "KeyboardInterrupt",
          "evalue": "",
          "output_type": "error",
          "traceback": [
            "\u001b[0;31m---------------------------------------------------------------------------\u001b[0m",
            "\u001b[0;31mKeyboardInterrupt\u001b[0m                         Traceback (most recent call last)",
            "\u001b[0;32m/tmp/ipykernel_926/4097020747.py\u001b[0m in \u001b[0;36m<module>\u001b[0;34m\u001b[0m\n\u001b[0;32m----> 1\u001b[0;31m \u001b[0mloss\u001b[0m \u001b[0;34m=\u001b[0m \u001b[0mmodel\u001b[0m\u001b[0;34m.\u001b[0m\u001b[0mfit\u001b[0m\u001b[0;34m(\u001b[0m\u001b[0mX_train\u001b[0m\u001b[0;34m,\u001b[0m \u001b[0my_train\u001b[0m\u001b[0;34m,\u001b[0m \u001b[0mvalidation_data\u001b[0m\u001b[0;34m=\u001b[0m\u001b[0;34m(\u001b[0m\u001b[0mX_test\u001b[0m\u001b[0;34m,\u001b[0m \u001b[0my_test\u001b[0m\u001b[0;34m)\u001b[0m\u001b[0;34m,\u001b[0m \u001b[0mepochs\u001b[0m\u001b[0;34m=\u001b[0m\u001b[0;36m20\u001b[0m\u001b[0;34m)\u001b[0m\u001b[0;34m\u001b[0m\u001b[0;34m\u001b[0m\u001b[0m\n\u001b[0m",
            "\u001b[0;32m/usr/local/lib/python3.8/dist-packages/keras/engine/training.py\u001b[0m in \u001b[0;36mfit\u001b[0;34m(self, x, y, batch_size, epochs, verbose, callbacks, validation_split, validation_data, shuffle, class_weight, sample_weight, initial_epoch, steps_per_epoch, validation_steps, validation_batch_size, validation_freq, max_queue_size, workers, use_multiprocessing)\u001b[0m\n\u001b[1;32m   1187\u001b[0m               \u001b[0mlogs\u001b[0m \u001b[0;34m=\u001b[0m \u001b[0mtmp_logs\u001b[0m  \u001b[0;31m# No error, now safe to assign to logs.\u001b[0m\u001b[0;34m\u001b[0m\u001b[0;34m\u001b[0m\u001b[0m\n\u001b[1;32m   1188\u001b[0m               \u001b[0mend_step\u001b[0m \u001b[0;34m=\u001b[0m \u001b[0mstep\u001b[0m \u001b[0;34m+\u001b[0m \u001b[0mdata_handler\u001b[0m\u001b[0;34m.\u001b[0m\u001b[0mstep_increment\u001b[0m\u001b[0;34m\u001b[0m\u001b[0;34m\u001b[0m\u001b[0m\n\u001b[0;32m-> 1189\u001b[0;31m               \u001b[0mcallbacks\u001b[0m\u001b[0;34m.\u001b[0m\u001b[0mon_train_batch_end\u001b[0m\u001b[0;34m(\u001b[0m\u001b[0mend_step\u001b[0m\u001b[0;34m,\u001b[0m \u001b[0mlogs\u001b[0m\u001b[0;34m)\u001b[0m\u001b[0;34m\u001b[0m\u001b[0;34m\u001b[0m\u001b[0m\n\u001b[0m\u001b[1;32m   1190\u001b[0m               \u001b[0;32mif\u001b[0m \u001b[0mself\u001b[0m\u001b[0;34m.\u001b[0m\u001b[0mstop_training\u001b[0m\u001b[0;34m:\u001b[0m\u001b[0;34m\u001b[0m\u001b[0;34m\u001b[0m\u001b[0m\n\u001b[1;32m   1191\u001b[0m                 \u001b[0;32mbreak\u001b[0m\u001b[0;34m\u001b[0m\u001b[0;34m\u001b[0m\u001b[0m\n",
            "\u001b[0;32m/usr/local/lib/python3.8/dist-packages/keras/callbacks.py\u001b[0m in \u001b[0;36mon_train_batch_end\u001b[0;34m(self, batch, logs)\u001b[0m\n\u001b[1;32m    433\u001b[0m     \"\"\"\n\u001b[1;32m    434\u001b[0m     \u001b[0;32mif\u001b[0m \u001b[0mself\u001b[0m\u001b[0;34m.\u001b[0m\u001b[0m_should_call_train_batch_hooks\u001b[0m\u001b[0;34m:\u001b[0m\u001b[0;34m\u001b[0m\u001b[0;34m\u001b[0m\u001b[0m\n\u001b[0;32m--> 435\u001b[0;31m       \u001b[0mself\u001b[0m\u001b[0;34m.\u001b[0m\u001b[0m_call_batch_hook\u001b[0m\u001b[0;34m(\u001b[0m\u001b[0mModeKeys\u001b[0m\u001b[0;34m.\u001b[0m\u001b[0mTRAIN\u001b[0m\u001b[0;34m,\u001b[0m \u001b[0;34m'end'\u001b[0m\u001b[0;34m,\u001b[0m \u001b[0mbatch\u001b[0m\u001b[0;34m,\u001b[0m \u001b[0mlogs\u001b[0m\u001b[0;34m=\u001b[0m\u001b[0mlogs\u001b[0m\u001b[0;34m)\u001b[0m\u001b[0;34m\u001b[0m\u001b[0;34m\u001b[0m\u001b[0m\n\u001b[0m\u001b[1;32m    436\u001b[0m \u001b[0;34m\u001b[0m\u001b[0m\n\u001b[1;32m    437\u001b[0m   \u001b[0;32mdef\u001b[0m \u001b[0mon_test_batch_begin\u001b[0m\u001b[0;34m(\u001b[0m\u001b[0mself\u001b[0m\u001b[0;34m,\u001b[0m \u001b[0mbatch\u001b[0m\u001b[0;34m,\u001b[0m \u001b[0mlogs\u001b[0m\u001b[0;34m=\u001b[0m\u001b[0;32mNone\u001b[0m\u001b[0;34m)\u001b[0m\u001b[0;34m:\u001b[0m\u001b[0;34m\u001b[0m\u001b[0;34m\u001b[0m\u001b[0m\n",
            "\u001b[0;32m/usr/local/lib/python3.8/dist-packages/keras/callbacks.py\u001b[0m in \u001b[0;36m_call_batch_hook\u001b[0;34m(self, mode, hook, batch, logs)\u001b[0m\n\u001b[1;32m    293\u001b[0m       \u001b[0mself\u001b[0m\u001b[0;34m.\u001b[0m\u001b[0m_call_batch_begin_hook\u001b[0m\u001b[0;34m(\u001b[0m\u001b[0mmode\u001b[0m\u001b[0;34m,\u001b[0m \u001b[0mbatch\u001b[0m\u001b[0;34m,\u001b[0m \u001b[0mlogs\u001b[0m\u001b[0;34m)\u001b[0m\u001b[0;34m\u001b[0m\u001b[0;34m\u001b[0m\u001b[0m\n\u001b[1;32m    294\u001b[0m     \u001b[0;32melif\u001b[0m \u001b[0mhook\u001b[0m \u001b[0;34m==\u001b[0m \u001b[0;34m'end'\u001b[0m\u001b[0;34m:\u001b[0m\u001b[0;34m\u001b[0m\u001b[0;34m\u001b[0m\u001b[0m\n\u001b[0;32m--> 295\u001b[0;31m       \u001b[0mself\u001b[0m\u001b[0;34m.\u001b[0m\u001b[0m_call_batch_end_hook\u001b[0m\u001b[0;34m(\u001b[0m\u001b[0mmode\u001b[0m\u001b[0;34m,\u001b[0m \u001b[0mbatch\u001b[0m\u001b[0;34m,\u001b[0m \u001b[0mlogs\u001b[0m\u001b[0;34m)\u001b[0m\u001b[0;34m\u001b[0m\u001b[0;34m\u001b[0m\u001b[0m\n\u001b[0m\u001b[1;32m    296\u001b[0m     \u001b[0;32melse\u001b[0m\u001b[0;34m:\u001b[0m\u001b[0;34m\u001b[0m\u001b[0;34m\u001b[0m\u001b[0m\n\u001b[1;32m    297\u001b[0m       \u001b[0;32mraise\u001b[0m \u001b[0mValueError\u001b[0m\u001b[0;34m(\u001b[0m\u001b[0;34m'Unrecognized hook: {}'\u001b[0m\u001b[0;34m.\u001b[0m\u001b[0mformat\u001b[0m\u001b[0;34m(\u001b[0m\u001b[0mhook\u001b[0m\u001b[0;34m)\u001b[0m\u001b[0;34m)\u001b[0m\u001b[0;34m\u001b[0m\u001b[0;34m\u001b[0m\u001b[0m\n",
            "\u001b[0;32m/usr/local/lib/python3.8/dist-packages/keras/callbacks.py\u001b[0m in \u001b[0;36m_call_batch_end_hook\u001b[0;34m(self, mode, batch, logs)\u001b[0m\n\u001b[1;32m    313\u001b[0m       \u001b[0mself\u001b[0m\u001b[0;34m.\u001b[0m\u001b[0m_batch_times\u001b[0m\u001b[0;34m.\u001b[0m\u001b[0mappend\u001b[0m\u001b[0;34m(\u001b[0m\u001b[0mbatch_time\u001b[0m\u001b[0;34m)\u001b[0m\u001b[0;34m\u001b[0m\u001b[0;34m\u001b[0m\u001b[0m\n\u001b[1;32m    314\u001b[0m \u001b[0;34m\u001b[0m\u001b[0m\n\u001b[0;32m--> 315\u001b[0;31m     \u001b[0mself\u001b[0m\u001b[0;34m.\u001b[0m\u001b[0m_call_batch_hook_helper\u001b[0m\u001b[0;34m(\u001b[0m\u001b[0mhook_name\u001b[0m\u001b[0;34m,\u001b[0m \u001b[0mbatch\u001b[0m\u001b[0;34m,\u001b[0m \u001b[0mlogs\u001b[0m\u001b[0;34m)\u001b[0m\u001b[0;34m\u001b[0m\u001b[0;34m\u001b[0m\u001b[0m\n\u001b[0m\u001b[1;32m    316\u001b[0m \u001b[0;34m\u001b[0m\u001b[0m\n\u001b[1;32m    317\u001b[0m     \u001b[0;32mif\u001b[0m \u001b[0mlen\u001b[0m\u001b[0;34m(\u001b[0m\u001b[0mself\u001b[0m\u001b[0;34m.\u001b[0m\u001b[0m_batch_times\u001b[0m\u001b[0;34m)\u001b[0m \u001b[0;34m>=\u001b[0m \u001b[0mself\u001b[0m\u001b[0;34m.\u001b[0m\u001b[0m_num_batches_for_timing_check\u001b[0m\u001b[0;34m:\u001b[0m\u001b[0;34m\u001b[0m\u001b[0;34m\u001b[0m\u001b[0m\n",
            "\u001b[0;32m/usr/local/lib/python3.8/dist-packages/keras/callbacks.py\u001b[0m in \u001b[0;36m_call_batch_hook_helper\u001b[0;34m(self, hook_name, batch, logs)\u001b[0m\n\u001b[1;32m    351\u001b[0m     \u001b[0;32mfor\u001b[0m \u001b[0mcallback\u001b[0m \u001b[0;32min\u001b[0m \u001b[0mself\u001b[0m\u001b[0;34m.\u001b[0m\u001b[0mcallbacks\u001b[0m\u001b[0;34m:\u001b[0m\u001b[0;34m\u001b[0m\u001b[0;34m\u001b[0m\u001b[0m\n\u001b[1;32m    352\u001b[0m       \u001b[0mhook\u001b[0m \u001b[0;34m=\u001b[0m \u001b[0mgetattr\u001b[0m\u001b[0;34m(\u001b[0m\u001b[0mcallback\u001b[0m\u001b[0;34m,\u001b[0m \u001b[0mhook_name\u001b[0m\u001b[0;34m)\u001b[0m\u001b[0;34m\u001b[0m\u001b[0;34m\u001b[0m\u001b[0m\n\u001b[0;32m--> 353\u001b[0;31m       \u001b[0mhook\u001b[0m\u001b[0;34m(\u001b[0m\u001b[0mbatch\u001b[0m\u001b[0;34m,\u001b[0m \u001b[0mlogs\u001b[0m\u001b[0;34m)\u001b[0m\u001b[0;34m\u001b[0m\u001b[0;34m\u001b[0m\u001b[0m\n\u001b[0m\u001b[1;32m    354\u001b[0m \u001b[0;34m\u001b[0m\u001b[0m\n\u001b[1;32m    355\u001b[0m     \u001b[0;32mif\u001b[0m \u001b[0mself\u001b[0m\u001b[0;34m.\u001b[0m\u001b[0m_check_timing\u001b[0m\u001b[0;34m:\u001b[0m\u001b[0;34m\u001b[0m\u001b[0;34m\u001b[0m\u001b[0m\n",
            "\u001b[0;32m/usr/local/lib/python3.8/dist-packages/keras/callbacks.py\u001b[0m in \u001b[0;36mon_train_batch_end\u001b[0;34m(self, batch, logs)\u001b[0m\n\u001b[1;32m   1026\u001b[0m \u001b[0;34m\u001b[0m\u001b[0m\n\u001b[1;32m   1027\u001b[0m   \u001b[0;32mdef\u001b[0m \u001b[0mon_train_batch_end\u001b[0m\u001b[0;34m(\u001b[0m\u001b[0mself\u001b[0m\u001b[0;34m,\u001b[0m \u001b[0mbatch\u001b[0m\u001b[0;34m,\u001b[0m \u001b[0mlogs\u001b[0m\u001b[0;34m=\u001b[0m\u001b[0;32mNone\u001b[0m\u001b[0;34m)\u001b[0m\u001b[0;34m:\u001b[0m\u001b[0;34m\u001b[0m\u001b[0;34m\u001b[0m\u001b[0m\n\u001b[0;32m-> 1028\u001b[0;31m     \u001b[0mself\u001b[0m\u001b[0;34m.\u001b[0m\u001b[0m_batch_update_progbar\u001b[0m\u001b[0;34m(\u001b[0m\u001b[0mbatch\u001b[0m\u001b[0;34m,\u001b[0m \u001b[0mlogs\u001b[0m\u001b[0;34m)\u001b[0m\u001b[0;34m\u001b[0m\u001b[0;34m\u001b[0m\u001b[0m\n\u001b[0m\u001b[1;32m   1029\u001b[0m \u001b[0;34m\u001b[0m\u001b[0m\n\u001b[1;32m   1030\u001b[0m   \u001b[0;32mdef\u001b[0m \u001b[0mon_test_batch_end\u001b[0m\u001b[0;34m(\u001b[0m\u001b[0mself\u001b[0m\u001b[0;34m,\u001b[0m \u001b[0mbatch\u001b[0m\u001b[0;34m,\u001b[0m \u001b[0mlogs\u001b[0m\u001b[0;34m=\u001b[0m\u001b[0;32mNone\u001b[0m\u001b[0;34m)\u001b[0m\u001b[0;34m:\u001b[0m\u001b[0;34m\u001b[0m\u001b[0;34m\u001b[0m\u001b[0m\n",
            "\u001b[0;32m/usr/local/lib/python3.8/dist-packages/keras/callbacks.py\u001b[0m in \u001b[0;36m_batch_update_progbar\u001b[0;34m(self, batch, logs)\u001b[0m\n\u001b[1;32m   1099\u001b[0m       \u001b[0;31m# Only block async when verbose = 1.\u001b[0m\u001b[0;34m\u001b[0m\u001b[0;34m\u001b[0m\u001b[0;34m\u001b[0m\u001b[0m\n\u001b[1;32m   1100\u001b[0m       \u001b[0mlogs\u001b[0m \u001b[0;34m=\u001b[0m \u001b[0mtf_utils\u001b[0m\u001b[0;34m.\u001b[0m\u001b[0msync_to_numpy_or_python_type\u001b[0m\u001b[0;34m(\u001b[0m\u001b[0mlogs\u001b[0m\u001b[0;34m)\u001b[0m\u001b[0;34m\u001b[0m\u001b[0;34m\u001b[0m\u001b[0m\n\u001b[0;32m-> 1101\u001b[0;31m       \u001b[0mself\u001b[0m\u001b[0;34m.\u001b[0m\u001b[0mprogbar\u001b[0m\u001b[0;34m.\u001b[0m\u001b[0mupdate\u001b[0m\u001b[0;34m(\u001b[0m\u001b[0mself\u001b[0m\u001b[0;34m.\u001b[0m\u001b[0mseen\u001b[0m\u001b[0;34m,\u001b[0m \u001b[0mlist\u001b[0m\u001b[0;34m(\u001b[0m\u001b[0mlogs\u001b[0m\u001b[0;34m.\u001b[0m\u001b[0mitems\u001b[0m\u001b[0;34m(\u001b[0m\u001b[0;34m)\u001b[0m\u001b[0;34m)\u001b[0m\u001b[0;34m,\u001b[0m \u001b[0mfinalize\u001b[0m\u001b[0;34m=\u001b[0m\u001b[0;32mFalse\u001b[0m\u001b[0;34m)\u001b[0m\u001b[0;34m\u001b[0m\u001b[0;34m\u001b[0m\u001b[0m\n\u001b[0m\u001b[1;32m   1102\u001b[0m \u001b[0;34m\u001b[0m\u001b[0m\n\u001b[1;32m   1103\u001b[0m   \u001b[0;32mdef\u001b[0m \u001b[0m_finalize_progbar\u001b[0m\u001b[0;34m(\u001b[0m\u001b[0mself\u001b[0m\u001b[0;34m,\u001b[0m \u001b[0mlogs\u001b[0m\u001b[0;34m,\u001b[0m \u001b[0mcounter\u001b[0m\u001b[0;34m)\u001b[0m\u001b[0;34m:\u001b[0m\u001b[0;34m\u001b[0m\u001b[0;34m\u001b[0m\u001b[0m\n",
            "\u001b[0;32m/usr/local/lib/python3.8/dist-packages/keras/utils/generic_utils.py\u001b[0m in \u001b[0;36mupdate\u001b[0;34m(self, current, values, finalize)\u001b[0m\n\u001b[1;32m    907\u001b[0m       \u001b[0mprev_total_width\u001b[0m \u001b[0;34m=\u001b[0m \u001b[0mself\u001b[0m\u001b[0;34m.\u001b[0m\u001b[0m_total_width\u001b[0m\u001b[0;34m\u001b[0m\u001b[0;34m\u001b[0m\u001b[0m\n\u001b[1;32m    908\u001b[0m       \u001b[0;32mif\u001b[0m \u001b[0mself\u001b[0m\u001b[0;34m.\u001b[0m\u001b[0m_dynamic_display\u001b[0m\u001b[0;34m:\u001b[0m\u001b[0;34m\u001b[0m\u001b[0;34m\u001b[0m\u001b[0m\n\u001b[0;32m--> 909\u001b[0;31m         \u001b[0msys\u001b[0m\u001b[0;34m.\u001b[0m\u001b[0mstdout\u001b[0m\u001b[0;34m.\u001b[0m\u001b[0mwrite\u001b[0m\u001b[0;34m(\u001b[0m\u001b[0;34m'\\b'\u001b[0m \u001b[0;34m*\u001b[0m \u001b[0mprev_total_width\u001b[0m\u001b[0;34m)\u001b[0m\u001b[0;34m\u001b[0m\u001b[0;34m\u001b[0m\u001b[0m\n\u001b[0m\u001b[1;32m    910\u001b[0m         \u001b[0msys\u001b[0m\u001b[0;34m.\u001b[0m\u001b[0mstdout\u001b[0m\u001b[0;34m.\u001b[0m\u001b[0mwrite\u001b[0m\u001b[0;34m(\u001b[0m\u001b[0;34m'\\r'\u001b[0m\u001b[0;34m)\u001b[0m\u001b[0;34m\u001b[0m\u001b[0;34m\u001b[0m\u001b[0m\n\u001b[1;32m    911\u001b[0m       \u001b[0;32melse\u001b[0m\u001b[0;34m:\u001b[0m\u001b[0;34m\u001b[0m\u001b[0;34m\u001b[0m\u001b[0m\n",
            "\u001b[0;32m/usr/local/lib/python3.8/dist-packages/ipykernel/iostream.py\u001b[0m in \u001b[0;36mwrite\u001b[0;34m(self, string)\u001b[0m\n\u001b[1;32m    527\u001b[0m             \u001b[0mis_child\u001b[0m \u001b[0;34m=\u001b[0m \u001b[0;34m(\u001b[0m\u001b[0;32mnot\u001b[0m \u001b[0mself\u001b[0m\u001b[0;34m.\u001b[0m\u001b[0m_is_master_process\u001b[0m\u001b[0;34m(\u001b[0m\u001b[0;34m)\u001b[0m\u001b[0;34m)\u001b[0m\u001b[0;34m\u001b[0m\u001b[0;34m\u001b[0m\u001b[0m\n\u001b[1;32m    528\u001b[0m             \u001b[0;31m# only touch the buffer in the IO thread to avoid races\u001b[0m\u001b[0;34m\u001b[0m\u001b[0;34m\u001b[0m\u001b[0;34m\u001b[0m\u001b[0m\n\u001b[0;32m--> 529\u001b[0;31m             \u001b[0mself\u001b[0m\u001b[0;34m.\u001b[0m\u001b[0mpub_thread\u001b[0m\u001b[0;34m.\u001b[0m\u001b[0mschedule\u001b[0m\u001b[0;34m(\u001b[0m\u001b[0;32mlambda\u001b[0m\u001b[0;34m:\u001b[0m \u001b[0mself\u001b[0m\u001b[0;34m.\u001b[0m\u001b[0m_buffer\u001b[0m\u001b[0;34m.\u001b[0m\u001b[0mwrite\u001b[0m\u001b[0;34m(\u001b[0m\u001b[0mstring\u001b[0m\u001b[0;34m)\u001b[0m\u001b[0;34m)\u001b[0m\u001b[0;34m\u001b[0m\u001b[0;34m\u001b[0m\u001b[0m\n\u001b[0m\u001b[1;32m    530\u001b[0m             \u001b[0;32mif\u001b[0m \u001b[0mis_child\u001b[0m\u001b[0;34m:\u001b[0m\u001b[0;34m\u001b[0m\u001b[0;34m\u001b[0m\u001b[0m\n\u001b[1;32m    531\u001b[0m                 \u001b[0;31m# mp.Pool cannot be trusted to flush promptly (or ever),\u001b[0m\u001b[0;34m\u001b[0m\u001b[0;34m\u001b[0m\u001b[0;34m\u001b[0m\u001b[0m\n",
            "\u001b[0;32m/usr/local/lib/python3.8/dist-packages/ipykernel/iostream.py\u001b[0m in \u001b[0;36mschedule\u001b[0;34m(self, f)\u001b[0m\n\u001b[1;32m    212\u001b[0m             \u001b[0mself\u001b[0m\u001b[0;34m.\u001b[0m\u001b[0m_events\u001b[0m\u001b[0;34m.\u001b[0m\u001b[0mappend\u001b[0m\u001b[0;34m(\u001b[0m\u001b[0mf\u001b[0m\u001b[0;34m)\u001b[0m\u001b[0;34m\u001b[0m\u001b[0;34m\u001b[0m\u001b[0m\n\u001b[1;32m    213\u001b[0m             \u001b[0;31m# wake event thread (message content is ignored)\u001b[0m\u001b[0;34m\u001b[0m\u001b[0;34m\u001b[0m\u001b[0;34m\u001b[0m\u001b[0m\n\u001b[0;32m--> 214\u001b[0;31m             \u001b[0mself\u001b[0m\u001b[0;34m.\u001b[0m\u001b[0m_event_pipe\u001b[0m\u001b[0;34m.\u001b[0m\u001b[0msend\u001b[0m\u001b[0;34m(\u001b[0m\u001b[0;34mb''\u001b[0m\u001b[0;34m)\u001b[0m\u001b[0;34m\u001b[0m\u001b[0;34m\u001b[0m\u001b[0m\n\u001b[0m\u001b[1;32m    215\u001b[0m         \u001b[0;32melse\u001b[0m\u001b[0;34m:\u001b[0m\u001b[0;34m\u001b[0m\u001b[0;34m\u001b[0m\u001b[0m\n\u001b[1;32m    216\u001b[0m             \u001b[0mf\u001b[0m\u001b[0;34m(\u001b[0m\u001b[0;34m)\u001b[0m\u001b[0;34m\u001b[0m\u001b[0;34m\u001b[0m\u001b[0m\n",
            "\u001b[0;32m/usr/local/lib/python3.8/dist-packages/zmq/sugar/socket.py\u001b[0m in \u001b[0;36msend\u001b[0;34m(self, data, flags, copy, track, routing_id, group)\u001b[0m\n\u001b[1;32m    545\u001b[0m                 )\n\u001b[1;32m    546\u001b[0m             \u001b[0mdata\u001b[0m\u001b[0;34m.\u001b[0m\u001b[0mgroup\u001b[0m \u001b[0;34m=\u001b[0m \u001b[0mgroup\u001b[0m\u001b[0;34m\u001b[0m\u001b[0;34m\u001b[0m\u001b[0m\n\u001b[0;32m--> 547\u001b[0;31m         \u001b[0;32mreturn\u001b[0m \u001b[0msuper\u001b[0m\u001b[0;34m(\u001b[0m\u001b[0mSocket\u001b[0m\u001b[0;34m,\u001b[0m \u001b[0mself\u001b[0m\u001b[0;34m)\u001b[0m\u001b[0;34m.\u001b[0m\u001b[0msend\u001b[0m\u001b[0;34m(\u001b[0m\u001b[0mdata\u001b[0m\u001b[0;34m,\u001b[0m \u001b[0mflags\u001b[0m\u001b[0;34m=\u001b[0m\u001b[0mflags\u001b[0m\u001b[0;34m,\u001b[0m \u001b[0mcopy\u001b[0m\u001b[0;34m=\u001b[0m\u001b[0mcopy\u001b[0m\u001b[0;34m,\u001b[0m \u001b[0mtrack\u001b[0m\u001b[0;34m=\u001b[0m\u001b[0mtrack\u001b[0m\u001b[0;34m)\u001b[0m\u001b[0;34m\u001b[0m\u001b[0;34m\u001b[0m\u001b[0m\n\u001b[0m\u001b[1;32m    548\u001b[0m \u001b[0;34m\u001b[0m\u001b[0m\n\u001b[1;32m    549\u001b[0m     \u001b[0;32mdef\u001b[0m \u001b[0msend_multipart\u001b[0m\u001b[0;34m(\u001b[0m\u001b[0mself\u001b[0m\u001b[0;34m,\u001b[0m \u001b[0mmsg_parts\u001b[0m\u001b[0;34m,\u001b[0m \u001b[0mflags\u001b[0m\u001b[0;34m=\u001b[0m\u001b[0;36m0\u001b[0m\u001b[0;34m,\u001b[0m \u001b[0mcopy\u001b[0m\u001b[0;34m=\u001b[0m\u001b[0;32mTrue\u001b[0m\u001b[0;34m,\u001b[0m \u001b[0mtrack\u001b[0m\u001b[0;34m=\u001b[0m\u001b[0;32mFalse\u001b[0m\u001b[0;34m,\u001b[0m \u001b[0;34m**\u001b[0m\u001b[0mkwargs\u001b[0m\u001b[0;34m)\u001b[0m\u001b[0;34m:\u001b[0m\u001b[0;34m\u001b[0m\u001b[0;34m\u001b[0m\u001b[0m\n",
            "\u001b[0;32mzmq/backend/cython/socket.pyx\u001b[0m in \u001b[0;36mzmq.backend.cython.socket.Socket.send\u001b[0;34m()\u001b[0m\n",
            "\u001b[0;32mzmq/backend/cython/socket.pyx\u001b[0m in \u001b[0;36mzmq.backend.cython.socket.Socket.send\u001b[0;34m()\u001b[0m\n",
            "\u001b[0;32mzmq/backend/cython/socket.pyx\u001b[0m in \u001b[0;36mzmq.backend.cython.socket._send_copy\u001b[0;34m()\u001b[0m\n",
            "\u001b[0;32m/usr/local/lib/python3.8/dist-packages/zmq/backend/cython/checkrc.pxd\u001b[0m in \u001b[0;36mzmq.backend.cython.checkrc._check_rc\u001b[0;34m()\u001b[0m\n",
            "\u001b[0;31mKeyboardInterrupt\u001b[0m: "
          ]
        }
      ],
      "source": [
        "loss = model.fit(X_train, y_train, validation_data=(X_test, y_test), epochs=20)"
      ]
    },
    {
      "cell_type": "code",
      "execution_count": null,
      "id": "1be5521d",
      "metadata": {
        "id": "1be5521d"
      },
      "outputs": [],
      "source": [
        "pd.DataFrame(loss.history)[['loss','val_loss']].plot()"
      ]
    },
    {
      "cell_type": "markdown",
      "id": "41a3ceb1",
      "metadata": {
        "id": "41a3ceb1"
      },
      "source": [
        "# Bandom su dropoutu"
      ]
    },
    {
      "cell_type": "code",
      "execution_count": 5,
      "id": "2390bba4",
      "metadata": {
        "colab": {
          "base_uri": "https://localhost:8080/"
        },
        "id": "2390bba4",
        "outputId": "3d267252-9664-44b8-977b-b3827a82d831"
      },
      "outputs": [
        {
          "output_type": "stream",
          "name": "stdout",
          "text": [
            "Model: \"sequential_1\"\n",
            "_________________________________________________________________\n",
            " Layer (type)                Output Shape              Param #   \n",
            "=================================================================\n",
            " flatten_1 (Flatten)         (None, 784)               0         \n",
            "                                                                 \n",
            " dense_2 (Dense)             (None, 256)               200960    \n",
            "                                                                 \n",
            " dropout (Dropout)           (None, 256)               0         \n",
            "                                                                 \n",
            " dense_3 (Dense)             (None, 128)               32896     \n",
            "                                                                 \n",
            " dropout_1 (Dropout)         (None, 128)               0         \n",
            "                                                                 \n",
            " dense_4 (Dense)             (None, 64)                8256      \n",
            "                                                                 \n",
            " dropout_2 (Dropout)         (None, 64)                0         \n",
            "                                                                 \n",
            " dense_5 (Dense)             (None, 10)                650       \n",
            "                                                                 \n",
            "=================================================================\n",
            "Total params: 242,762\n",
            "Trainable params: 242,762\n",
            "Non-trainable params: 0\n",
            "_________________________________________________________________\n"
          ]
        }
      ],
      "source": [
        "model = keras.models.Sequential()\n",
        "# all data pre-processing should be in keras model!\n",
        "model.add(keras.layers.Flatten(input_shape=(28,28)))\n",
        "model.add(keras.layers.Dense(256,activation='relu')) \n",
        "model.add(keras.layers.Dropout(0,4))\n",
        "model.add(keras.layers.Dense(128,activation='relu')) \n",
        "model.add(keras.layers.Dropout(0,4))\n",
        "model.add(keras.layers.Dense(64,activation='relu'))\n",
        "model.add(keras.layers.Dropout(0,4))\n",
        "model.add(keras.layers.Dense(10,activation='softmax')) \n",
        "model.compile(loss='sparse_categorical_crossentropy',\n",
        "             #optimizer='adam', #NAUJAS OPTIMIZERIS, GALI LABAI PADET!!!\n",
        "             optimizer = keras.optimizers.Adam(learning_rate=3e-4),\n",
        "              metrics=['accuracy'])\n",
        "#if you use categorical_crossentropy then it expects one hot encoded output\n",
        "model.summary()"
      ]
    },
    {
      "cell_type": "code",
      "execution_count": 6,
      "id": "69a9879f",
      "metadata": {
        "id": "69a9879f"
      },
      "outputs": [],
      "source": [
        "keras.layers.Dropout?"
      ]
    },
    {
      "cell_type": "code",
      "execution_count": 55,
      "id": "a60812f9",
      "metadata": {
        "colab": {
          "base_uri": "https://localhost:8080/",
          "height": 727
        },
        "id": "a60812f9",
        "outputId": "19c2f62f-8f0e-41a8-fbca-eab761197d93"
      },
      "outputs": [
        {
          "output_type": "stream",
          "name": "stdout",
          "text": [
            "Epoch 1/50\n"
          ]
        },
        {
          "output_type": "error",
          "ename": "TypeError",
          "evalue": "ignored",
          "traceback": [
            "\u001b[0;31m---------------------------------------------------------------------------\u001b[0m",
            "\u001b[0;31mTypeError\u001b[0m                                 Traceback (most recent call last)",
            "\u001b[0;32m<ipython-input-55-4c121e344245>\u001b[0m in \u001b[0;36m<module>\u001b[0;34m()\u001b[0m\n\u001b[1;32m      1\u001b[0m loss = model.fit(X_train, y_train, validation_data=(X_test, y_test), epochs=50,\n\u001b[0;32m----> 2\u001b[0;31m                 batch_size=156)\n\u001b[0m\u001b[1;32m      3\u001b[0m \u001b[0mpd\u001b[0m\u001b[0;34m.\u001b[0m\u001b[0mDataFrame\u001b[0m\u001b[0;34m(\u001b[0m\u001b[0mloss\u001b[0m\u001b[0;34m.\u001b[0m\u001b[0mhistory\u001b[0m\u001b[0;34m)\u001b[0m\u001b[0;34m[\u001b[0m\u001b[0;34m[\u001b[0m\u001b[0;34m'loss'\u001b[0m\u001b[0;34m,\u001b[0m\u001b[0;34m'val_loss'\u001b[0m\u001b[0;34m]\u001b[0m\u001b[0;34m]\u001b[0m\u001b[0;34m.\u001b[0m\u001b[0mplot\u001b[0m\u001b[0;34m(\u001b[0m\u001b[0;34m)\u001b[0m\u001b[0;34m\u001b[0m\u001b[0;34m\u001b[0m\u001b[0m\n",
            "\u001b[0;32m/usr/local/lib/python3.7/dist-packages/keras/utils/traceback_utils.py\u001b[0m in \u001b[0;36merror_handler\u001b[0;34m(*args, **kwargs)\u001b[0m\n\u001b[1;32m     65\u001b[0m     \u001b[0;32mexcept\u001b[0m \u001b[0mException\u001b[0m \u001b[0;32mas\u001b[0m \u001b[0me\u001b[0m\u001b[0;34m:\u001b[0m  \u001b[0;31m# pylint: disable=broad-except\u001b[0m\u001b[0;34m\u001b[0m\u001b[0;34m\u001b[0m\u001b[0m\n\u001b[1;32m     66\u001b[0m       \u001b[0mfiltered_tb\u001b[0m \u001b[0;34m=\u001b[0m \u001b[0m_process_traceback_frames\u001b[0m\u001b[0;34m(\u001b[0m\u001b[0me\u001b[0m\u001b[0;34m.\u001b[0m\u001b[0m__traceback__\u001b[0m\u001b[0;34m)\u001b[0m\u001b[0;34m\u001b[0m\u001b[0;34m\u001b[0m\u001b[0m\n\u001b[0;32m---> 67\u001b[0;31m       \u001b[0;32mraise\u001b[0m \u001b[0me\u001b[0m\u001b[0;34m.\u001b[0m\u001b[0mwith_traceback\u001b[0m\u001b[0;34m(\u001b[0m\u001b[0mfiltered_tb\u001b[0m\u001b[0;34m)\u001b[0m \u001b[0;32mfrom\u001b[0m \u001b[0;32mNone\u001b[0m\u001b[0;34m\u001b[0m\u001b[0;34m\u001b[0m\u001b[0m\n\u001b[0m\u001b[1;32m     68\u001b[0m     \u001b[0;32mfinally\u001b[0m\u001b[0;34m:\u001b[0m\u001b[0;34m\u001b[0m\u001b[0;34m\u001b[0m\u001b[0m\n\u001b[1;32m     69\u001b[0m       \u001b[0;32mdel\u001b[0m \u001b[0mfiltered_tb\u001b[0m\u001b[0;34m\u001b[0m\u001b[0;34m\u001b[0m\u001b[0m\n",
            "\u001b[0;32m/usr/local/lib/python3.7/dist-packages/tensorflow/python/framework/func_graph.py\u001b[0m in \u001b[0;36mautograph_handler\u001b[0;34m(*args, **kwargs)\u001b[0m\n\u001b[1;32m   1127\u001b[0m           \u001b[0;32mexcept\u001b[0m \u001b[0mException\u001b[0m \u001b[0;32mas\u001b[0m \u001b[0me\u001b[0m\u001b[0;34m:\u001b[0m  \u001b[0;31m# pylint:disable=broad-except\u001b[0m\u001b[0;34m\u001b[0m\u001b[0;34m\u001b[0m\u001b[0m\n\u001b[1;32m   1128\u001b[0m             \u001b[0;32mif\u001b[0m \u001b[0mhasattr\u001b[0m\u001b[0;34m(\u001b[0m\u001b[0me\u001b[0m\u001b[0;34m,\u001b[0m \u001b[0;34m\"ag_error_metadata\"\u001b[0m\u001b[0;34m)\u001b[0m\u001b[0;34m:\u001b[0m\u001b[0;34m\u001b[0m\u001b[0;34m\u001b[0m\u001b[0m\n\u001b[0;32m-> 1129\u001b[0;31m               \u001b[0;32mraise\u001b[0m \u001b[0me\u001b[0m\u001b[0;34m.\u001b[0m\u001b[0mag_error_metadata\u001b[0m\u001b[0;34m.\u001b[0m\u001b[0mto_exception\u001b[0m\u001b[0;34m(\u001b[0m\u001b[0me\u001b[0m\u001b[0;34m)\u001b[0m\u001b[0;34m\u001b[0m\u001b[0;34m\u001b[0m\u001b[0m\n\u001b[0m\u001b[1;32m   1130\u001b[0m             \u001b[0;32melse\u001b[0m\u001b[0;34m:\u001b[0m\u001b[0;34m\u001b[0m\u001b[0;34m\u001b[0m\u001b[0m\n\u001b[1;32m   1131\u001b[0m               \u001b[0;32mraise\u001b[0m\u001b[0;34m\u001b[0m\u001b[0;34m\u001b[0m\u001b[0m\n",
            "\u001b[0;31mTypeError\u001b[0m: in user code:\n\n    File \"/usr/local/lib/python3.7/dist-packages/keras/engine/training.py\", line 878, in train_function  *\n        return step_function(self, iterator)\n    File \"/usr/local/lib/python3.7/dist-packages/keras/engine/training.py\", line 867, in step_function  **\n        outputs = model.distribute_strategy.run(run_step, args=(data,))\n    File \"/usr/local/lib/python3.7/dist-packages/keras/engine/training.py\", line 860, in run_step  **\n        outputs = model.train_step(data)\n    File \"/usr/local/lib/python3.7/dist-packages/keras/engine/training.py\", line 808, in train_step\n        y_pred = self(x, training=True)\n    File \"/usr/local/lib/python3.7/dist-packages/keras/utils/traceback_utils.py\", line 67, in error_handler\n        raise e.with_traceback(filtered_tb) from None\n    File \"/usr/local/lib/python3.7/dist-packages/keras/layers/core/dropout.py\", line 96, in _get_noise_shape\n        for i, value in enumerate(self.noise_shape):\n\n    TypeError: Exception encountered when calling layer \"dropout_9\" (type Dropout).\n    \n    'int' object is not iterable\n    \n    Call arguments received:\n      • inputs=tf.Tensor(shape=(None, 50), dtype=float32)\n      • training=True\n"
          ]
        }
      ],
      "source": [
        "loss = model.fit(X_train, y_train, validation_data=(X_test, y_test), epochs=50,\n",
        "                batch_size=156)\n",
        "pd.DataFrame(loss.history)[['loss','val_loss']].plot()"
      ]
    },
    {
      "cell_type": "code",
      "execution_count": null,
      "id": "aaaecd95",
      "metadata": {
        "id": "aaaecd95"
      },
      "outputs": [],
      "source": [
        ""
      ]
    },
    {
      "cell_type": "code",
      "execution_count": null,
      "id": "53ad9b60",
      "metadata": {
        "id": "53ad9b60"
      },
      "outputs": [],
      "source": [
        "inp = keras.layers.Input(input_shape=(28,28))\n",
        "out = keras.layers.Flatter()(inp)\n",
        "out = keras.layers.Dense(256,activations='relu')(out)\n",
        "model.add(keras.layers.Dropout(0,4))(out)\n",
        "out = keras.layers.Dense(128,activations='relu')(out)\n",
        "model.add(keras.layers.Dropout(0,4))(out)\n",
        "out = keras.layers.Dense(64,activations='relu')(out)\n",
        "model.add(keras.layers.Dropout(0,4))(out)\n",
        "out = keras.layers.Dense(10,activations='relu')(out)\n",
        "model.add(keras.layers.Dropout(0,4))(out)\n",
        "model = keras.models.Model(inputs=inp,outputs=out)\n",
        "model.summary()"
      ]
    },
    {
      "cell_type": "code",
      "execution_count": null,
      "id": "674d7035",
      "metadata": {
        "id": "674d7035"
      },
      "outputs": [],
      "source": [
        ""
      ]
    },
    {
      "cell_type": "code",
      "execution_count": null,
      "id": "c317495c",
      "metadata": {
        "id": "c317495c"
      },
      "outputs": [],
      "source": [
        ""
      ]
    },
    {
      "cell_type": "code",
      "execution_count": null,
      "id": "0cae68da",
      "metadata": {
        "id": "0cae68da"
      },
      "outputs": [],
      "source": [
        ""
      ]
    }
  ],
  "metadata": {
    "kernelspec": {
      "display_name": "Python 3 (ipykernel)",
      "language": "python",
      "name": "python3"
    },
    "language_info": {
      "codemirror_mode": {
        "name": "ipython",
        "version": 3
      },
      "file_extension": ".py",
      "mimetype": "text/x-python",
      "name": "python",
      "nbconvert_exporter": "python",
      "pygments_lexer": "ipython3",
      "version": "3.8.10"
    },
    "colab": {
      "name": "Info flatlandui.ipynb",
      "provenance": [],
      "collapsed_sections": [],
      "include_colab_link": true
    },
    "accelerator": "GPU"
  },
  "nbformat": 4,
  "nbformat_minor": 5
}